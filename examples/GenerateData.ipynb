{
 "cells": [
  {
   "cell_type": "code",
   "execution_count": null,
   "metadata": {
    "jupyter": {
     "outputs_hidden": false,
     "source_hidden": false
    },
    "nteract": {
     "transient": {
      "deleting": false
     }
    }
   },
   "outputs": [],
   "source": [
    "import two4two\n",
    "import matplotlib.pyplot as plt\n",
    "import numpy as np\n",
    "import scipy.stats\n",
    "from two4two.plotvis import render_single_param"
   ]
  },
  {
   "cell_type": "markdown",
   "metadata": {
    "nteract": {
     "transient": {
      "deleting": false
     }
    }
   },
   "source": [
    "# SceneParameters: Description of a single image\n",
    "The basic data type of the two4two module are SceneParameters. They contain the attributes that describe a single 3D scene which can be rendered into an image. We can create SceneParameters manually with the consturctor which will be initialize with default values (see example below). In a later section we "
   ]
  },
  {
   "cell_type": "code",
   "execution_count": null,
   "metadata": {
    "jupyter": {
     "outputs_hidden": false,
     "source_hidden": false
    },
    "nteract": {
     "transient": {
      "deleting": false
     }
    }
   },
   "outputs": [],
   "source": [
    "base_param = two4two.SceneParameters()\n",
    "base_param\n"
   ]
  },
  {
   "cell_type": "markdown",
   "metadata": {
    "nteract": {
     "transient": {
      "deleting": false
     }
    }
   },
   "source": [
    "# Rendering SceneParameters\n",
    "At the end of this notebook, you will have an understanding for all the attributes that are contained in SceneParameters. First, we will show you how to turn a SceneParameter into an image.To do this we simply have to pass it to the blender Module. The ``blender.render`` function is designed to recieve a *list of SceneParameters* and return an enumeraor to recieve \n",
    "1. the rendered image\n",
    "2. a segmentation mask\n",
    "3. the paramers used to create the image (so that they can be saved as well and used for a later analysis).\n",
    "The will be returned once they are finsiehd rendering.\n",
    "\n",
    "Note that we have implemented doc string tha provide even more detail. The example below shows the doc string for the ``blender.render`` function."
   ]
  },
  {
   "cell_type": "code",
   "execution_count": null,
   "metadata": {},
   "outputs": [],
   "source": [
    "two4two.blender.render?"
   ]
  },
  {
   "cell_type": "markdown",
   "metadata": {},
   "source": [
    "Here we will use the convienience function ``bender.render_single`` which returns a single image and segmentaion mask for a single SceneParameter. Please do not use it to render a Sequence of parameters ``blender.render`` does this is in a more efficent way. The convieniece function is only designed to inspect single images quickly. The download_blender flag will ensure blender is installed for you."
   ]
  },
  {
   "cell_type": "code",
   "execution_count": null,
   "metadata": {},
   "outputs": [],
   "source": [
    "(img, mask) = two4two.blender.render_single(base_param, download_blender=True)"
   ]
  },
  {
   "cell_type": "markdown",
   "metadata": {},
   "source": [
    "Ploting the image yields a sticky objects."
   ]
  },
  {
   "cell_type": "code",
   "execution_count": null,
   "metadata": {},
   "outputs": [],
   "source": [
    "plt.imshow(img)\n",
    "plt.axis('off')"
   ]
  },
  {
   "cell_type": "markdown",
   "metadata": {
    "nteract": {
     "transient": {
      "deleting": false
     }
    }
   },
   "source": [
    "The renderer also returns an image mask which we visualize here:"
   ]
  },
  {
   "cell_type": "code",
   "execution_count": null,
   "metadata": {
    "jupyter": {
     "outputs_hidden": false,
     "source_hidden": false
    },
    "nteract": {
     "transient": {
      "deleting": false
     }
    }
   },
   "outputs": [],
   "source": [
    "plt.imshow(mask)"
   ]
  },
  {
   "cell_type": "markdown",
   "metadata": {
    "nteract": {
     "transient": {
      "deleting": false
     }
    }
   },
   "source": [
    "In this example we will render quite a few single images, which is why we will use another convienience fucntion from the two4two.plotvis."
   ]
  },
  {
   "cell_type": "code",
   "execution_count": null,
   "metadata": {},
   "outputs": [],
   "source": [
    "from two4two.plotvis import render_single_param\n",
    "render_single_param(base_param);"
   ]
  },
  {
   "cell_type": "markdown",
   "metadata": {
    "nteract": {
     "transient": {
      "deleting": false
     }
    }
   },
   "source": [
    "The default SceneParameters alwasy depicts a sticky.\n",
    "One can obtain the exact same set of default values with a convienience function"
   ]
  },
  {
   "cell_type": "code",
   "execution_count": null,
   "metadata": {
    "jupyter": {
     "outputs_hidden": false,
     "source_hidden": false
    },
    "nteract": {
     "transient": {
      "deleting": false
     }
    }
   },
   "outputs": [],
   "source": [
    "base_sticky = two4two.SceneParameters.default_sticky()\n",
    "render_single_param(base_sticky);"
   ]
  },
  {
   "cell_type": "markdown",
   "metadata": {
    "nteract": {
     "transient": {
      "deleting": false
     }
    }
   },
   "source": [
    "Similarly a conveience function exisit to retrieve a stretchy"
   ]
  },
  {
   "cell_type": "code",
   "execution_count": null,
   "metadata": {
    "jupyter": {
     "outputs_hidden": false,
     "source_hidden": false
    },
    "nteract": {
     "transient": {
      "deleting": false
     }
    }
   },
   "outputs": [],
   "source": [
    "base_stretchy = two4two.SceneParameters.default_stretchy()\n",
    "render_single_param(base_stretchy);"
   ]
  },
  {
   "cell_type": "markdown",
   "metadata": {
    "nteract": {
     "transient": {
      "deleting": false
     }
    }
   },
   "source": [
    "# Changing Attributes\n",
    "The attributes of the SceneParameters can be changed manually.\n",
    "For example the attribute **fliplr** indicates if the object is flipped vertically (left/right)"
   ]
  },
  {
   "cell_type": "code",
   "execution_count": null,
   "metadata": {
    "jupyter": {
     "outputs_hidden": false,
     "source_hidden": false
    },
    "nteract": {
     "transient": {
      "deleting": false
     }
    }
   },
   "outputs": [],
   "source": [
    "fliped_sticky = two4two.SceneParameters()\n",
    "fliped_sticky.fliplr"
   ]
  },
  {
   "cell_type": "markdown",
   "metadata": {
    "nteract": {
     "transient": {
      "deleting": false
     }
    }
   },
   "source": [
    "Since the paramters indicate the object is not flipped, we can change that by\n",
    "setting the attribute manually accordingly."
   ]
  },
  {
   "cell_type": "code",
   "execution_count": null,
   "metadata": {
    "jupyter": {
     "outputs_hidden": false,
     "source_hidden": false
    },
    "nteract": {
     "transient": {
      "deleting": false
     }
    }
   },
   "outputs": [],
   "source": [
    "fliped_sticky.fliplr = True\n",
    "render_single_param(fliped_sticky);"
   ]
  },
  {
   "cell_type": "markdown",
   "metadata": {
    "nteract": {
     "transient": {
      "deleting": false
     }
    }
   },
   "source": [
    "Next lets look at the attribute of **roation**\n",
    "Here we are setting it to the minimum recommended value."
   ]
  },
  {
   "cell_type": "code",
   "execution_count": null,
   "metadata": {
    "jupyter": {
     "outputs_hidden": false,
     "source_hidden": false
    },
    "nteract": {
     "transient": {
      "deleting": false
     }
    }
   },
   "outputs": [],
   "source": [
    "rotating_pitch_sticky = two4two.SceneParameters()\n",
    "rotating_pitch_sticky.obj_rotation_pitch = two4two.SceneParameters.VALID_VALUES['obj_rotation_pitch'][0]\n",
    "render_single_param(rotating_pitch_sticky);"
   ]
  },
  {
   "cell_type": "markdown",
   "metadata": {
    "nteract": {
     "transient": {
      "deleting": false
     }
    }
   },
   "source": [
    "After that we are setting it to the recommended maximum value"
   ]
  },
  {
   "cell_type": "code",
   "execution_count": null,
   "metadata": {
    "jupyter": {
     "outputs_hidden": false,
     "source_hidden": false
    },
    "nteract": {
     "transient": {
      "deleting": false
     }
    }
   },
   "outputs": [],
   "source": [
    "rotating_pitch_sticky.obj_rotation_pitch = two4two.SceneParameters.VALID_VALUES['obj_rotation_pitch'][1]\n",
    "render_single_param(rotating_pitch_sticky);"
   ]
  },
  {
   "cell_type": "markdown",
   "metadata": {
    "nteract": {
     "transient": {
      "deleting": false
     }
    }
   },
   "source": [
    "It is possible to set attributes outside of the recomemnded values"
   ]
  },
  {
   "cell_type": "code",
   "execution_count": null,
   "metadata": {
    "jupyter": {
     "outputs_hidden": false,
     "source_hidden": false
    },
    "nteract": {
     "transient": {
      "deleting": false
     }
    }
   },
   "outputs": [],
   "source": [
    "rotating_pitch_sticky.obj_rotation_pitch = 1.2\n",
    "render_single_param(rotating_pitch_sticky);"
   ]
  },
  {
   "cell_type": "markdown",
   "metadata": {
    "nteract": {
     "transient": {
      "deleting": false
     }
    }
   },
   "source": [
    "To check wheter values are with recommended ranges you can use *check_value*"
   ]
  },
  {
   "cell_type": "code",
   "execution_count": null,
   "metadata": {
    "jupyter": {
     "outputs_hidden": false,
     "source_hidden": false
    },
    "nteract": {
     "transient": {
      "deleting": false
     }
    }
   },
   "outputs": [],
   "source": [
    "rotating_pitch_sticky.check_values()"
   ]
  },
  {
   "cell_type": "markdown",
   "metadata": {
    "nteract": {
     "transient": {
      "deleting": false
     }
    }
   },
   "source": [
    "The following examples will illustrate the other attibutes and their corresponding\n",
    "maximum and minimum recommended values.\n",
    "The enxt examples shows the **inclination**"
   ]
  },
  {
   "cell_type": "code",
   "execution_count": null,
   "metadata": {
    "jupyter": {
     "outputs_hidden": false,
     "source_hidden": false
    },
    "nteract": {
     "transient": {
      "deleting": false
     }
    }
   },
   "outputs": [],
   "source": [
    "rotating_yaw_sticky = two4two.SceneParameters()\n",
    "rotating_yaw_sticky.obj_rotation_yaw = 0.5*two4two.SceneParameters.VALID_VALUES['obj_rotation_yaw'][0]\n",
    "render_single_param(rotating_yaw_sticky);"
   ]
  },
  {
   "cell_type": "markdown",
   "metadata": {},
   "source": [
    "Please note here we are taking half of the max and min value since the yaw rotation has the range (-PI,+PI) which is a full rotation, resulting in the exact same orignal image."
   ]
  },
  {
   "cell_type": "code",
   "execution_count": null,
   "metadata": {
    "jupyter": {
     "outputs_hidden": false,
     "source_hidden": false
    },
    "nteract": {
     "transient": {
      "deleting": false
     }
    }
   },
   "outputs": [],
   "source": [
    "rotating_yaw_sticky.obj_rotation_yaw = 0.5* two4two.SceneParameters.VALID_VALUES['obj_rotation_yaw'][1]\n",
    "render_single_param(rotating_yaw_sticky);"
   ]
  },
  {
   "cell_type": "code",
   "execution_count": null,
   "metadata": {
    "jupyter": {
     "outputs_hidden": false,
     "source_hidden": false
    },
    "nteract": {
     "transient": {
      "deleting": false
     }
    }
   },
   "outputs": [],
   "source": [
    "rotating_roll_sticky = two4two.SceneParameters()\n",
    "rotating_roll_sticky.obj_rotation_roll = two4two.SceneParameters.VALID_VALUES['obj_rotation_roll'][0]\n",
    "render_single_param(rotating_roll_sticky);"
   ]
  },
  {
   "cell_type": "code",
   "execution_count": null,
   "metadata": {
    "jupyter": {
     "outputs_hidden": false,
     "source_hidden": false
    },
    "nteract": {
     "transient": {
      "deleting": false
     }
    }
   },
   "outputs": [],
   "source": [
    "rotating_roll_sticky.obj_rotation_roll = two4two.SceneParameters.VALID_VALUES['obj_rotation_roll'][1]\n",
    "render_single_param(rotating_roll_sticky);"
   ]
  },
  {
   "cell_type": "markdown",
   "metadata": {
    "nteract": {
     "transient": {
      "deleting": false
     }
    }
   },
   "source": [
    "We can also alter the **postion** in the scene"
   ]
  },
  {
   "cell_type": "code",
   "execution_count": null,
   "metadata": {
    "jupyter": {
     "outputs_hidden": false,
     "source_hidden": false
    },
    "nteract": {
     "transient": {
      "deleting": false
     }
    }
   },
   "outputs": [],
   "source": [
    "right_down_sticky = two4two.SceneParameters()\n",
    "right_down_sticky.position_x = two4two.SceneParameters.VALID_VALUES['position_x'][0]\n",
    "right_down_sticky.position_y = two4two.SceneParameters.VALID_VALUES['position_y'][0]\n",
    "render_single_param(right_down_sticky);"
   ]
  },
  {
   "cell_type": "markdown",
   "metadata": {
    "nteract": {
     "transient": {
      "deleting": false
     }
    }
   },
   "source": [
    "The 8 building blocks of sticky and stretchy can be altered to be more or less **spherical**"
   ]
  },
  {
   "cell_type": "code",
   "execution_count": null,
   "metadata": {
    "jupyter": {
     "outputs_hidden": false,
     "source_hidden": false
    },
    "nteract": {
     "transient": {
      "deleting": false
     }
    }
   },
   "outputs": [],
   "source": [
    "spherical_sticky = two4two.SceneParameters()\n",
    "spherical_sticky.spherical = two4two.SceneParameters.VALID_VALUES['spherical'][1]\n",
    "render_single_param(spherical_sticky);"
   ]
  },
  {
   "cell_type": "code",
   "execution_count": null,
   "metadata": {
    "jupyter": {
     "outputs_hidden": false,
     "source_hidden": false
    },
    "nteract": {
     "transient": {
      "deleting": false
     }
    }
   },
   "outputs": [],
   "source": [
    "cubic_stretchy = two4two.SceneParameters.default_stretchy()\n",
    "cubic_stretchy.spherical = two4two.SceneParameters.VALID_VALUES['spherical'][0]\n",
    "render_single_param(cubic_stretchy);"
   ]
  },
  {
   "cell_type": "markdown",
   "metadata": {
    "nteract": {
     "transient": {
      "deleting": false
     }
    }
   },
   "source": [
    "The objects can take on \"postures\" with the attribute *bending*"
   ]
  },
  {
   "cell_type": "code",
   "execution_count": null,
   "metadata": {
    "jupyter": {
     "outputs_hidden": false,
     "source_hidden": false
    },
    "nteract": {
     "transient": {
      "deleting": false
     }
    }
   },
   "outputs": [],
   "source": [
    "bending_sticky = two4two.SceneParameters()\n",
    "bending_sticky.bending = two4two.SceneParameters.VALID_VALUES['bending'][0]\n",
    "bending_sticky.check_values()\n",
    "render_single_param(bending_sticky);\n"
   ]
  },
  {
   "cell_type": "markdown",
   "metadata": {
    "nteract": {
     "transient": {
      "deleting": false
     }
    }
   },
   "source": [
    "You have now seen all attributes - except the colors - that can be changed about sticky and stretchy.\n",
    "# Sampling large numbers of SceneParameters\n",
    "In practice we usally do not create SceneParameters manually. Instead we use a sampler to sample these attributes from given distribtions. The command below creates the default sample provided with this module."
   ]
  },
  {
   "cell_type": "code",
   "execution_count": null,
   "metadata": {
    "jupyter": {
     "outputs_hidden": false,
     "source_hidden": false
    },
    "nteract": {
     "transient": {
      "deleting": false
     }
    }
   },
   "outputs": [],
   "source": [
    "sampler = two4two.Sampler()"
   ]
  },
  {
   "cell_type": "markdown",
   "metadata": {
    "nteract": {
     "transient": {
      "deleting": false
     }
    }
   },
   "source": [
    "Here we use the default provided sample to generate an examples.\n",
    "Try rerunning the cell and see how it changes"
   ]
  },
  {
   "cell_type": "code",
   "execution_count": null,
   "metadata": {
    "jupyter": {
     "outputs_hidden": false,
     "source_hidden": false
    },
    "nteract": {
     "transient": {
      "deleting": false
     }
    }
   },
   "outputs": [],
   "source": [
    "sampled_params = sampler.sample()\n",
    "render_single_param(sampled_params);"
   ]
  },
  {
   "cell_type": "markdown",
   "metadata": {},
   "source": [
    "We can create several examples using list comprehension, randomly creating several strechies and stickies. Also there is a useful helper function which renders these examples in an image grid."
   ]
  },
  {
   "cell_type": "code",
   "execution_count": null,
   "metadata": {},
   "outputs": [],
   "source": [
    "from two4two.plotvis import render_grid"
   ]
  },
  {
   "cell_type": "code",
   "execution_count": null,
   "metadata": {
    "jupyter": {
     "outputs_hidden": false,
     "source_hidden": false
    },
    "nteract": {
     "transient": {
      "deleting": false
     }
    }
   },
   "outputs": [],
   "source": [
    "params = [sampler.sample() for i in range(18)]\n",
    "render_grid(params);"
   ]
  },
  {
   "cell_type": "markdown",
   "metadata": {
    "nteract": {
     "transient": {
      "deleting": false
     }
    }
   },
   "source": [
    "A sampler works by setting attributes using a distributon.\n",
    "We can also use a sampler to sample individual attributes of SceneParameters.\n",
    "This is usefull to visualize how each attribute is sampled.\n",
    "Here we are defining 18 default strechies and 18 default stickies to then\n",
    "only sampler their **color**. We then sort them by their color and visulize them in a grid."
   ]
  },
  {
   "cell_type": "code",
   "execution_count": null,
   "metadata": {
    "jupyter": {
     "outputs_hidden": false,
     "source_hidden": false
    },
    "nteract": {
     "transient": {
      "deleting": false
     }
    }
   },
   "outputs": [],
   "source": [
    "num_images = 18\n",
    "stickies = [two4two.SceneParameters.default_sticky() for i in range(num_images)]\n",
    "strechies = [two4two.SceneParameters.default_stretchy() for i in range(num_images)]\n",
    "\n",
    "_ = [sampler.sample_obj_color(params) for params in stickies + strechies]\n",
    "strechies.sort(key=lambda x: x.obj_color)\n",
    "stickies.sort(key=lambda x: x.obj_color)\n",
    "render_grid(stickies + strechies);"
   ]
  },
  {
   "cell_type": "markdown",
   "metadata": {
    "nteract": {
     "transient": {
      "deleting": false
     }
    }
   },
   "source": [
    "In the following example we repeat this experiement with a diffrent sampler, which has a known **color bias**.\n",
    "In the grid you can see that stickies (left) are more frequently red and stretchies (rigth) are more frequently blue."
   ]
  },
  {
   "cell_type": "code",
   "execution_count": null,
   "metadata": {
    "jupyter": {
     "outputs_hidden": false,
     "source_hidden": false
    },
    "nteract": {
     "transient": {
      "deleting": false
     }
    }
   },
   "outputs": [],
   "source": [
    "sampler = two4two.ColorBiasedSampler()\n",
    "_ = [sampler.sample_obj_color(params) for params in stickies + strechies]\n",
    "strechies.sort(key=lambda x: x.obj_color)\n",
    "stickies.sort(key=lambda x: x.obj_color)\n",
    "render_grid(stickies + strechies);"
   ]
  },
  {
   "cell_type": "markdown",
   "metadata": {
    "nteract": {
     "transient": {
      "deleting": false
     }
    }
   },
   "source": [
    "It is much easier to see the color bias when we leave all other attributes constant and order the objects by their color.\n",
    "Lets see the images our ColorBiasedSampler would create when it is also sampling all other attributes."
   ]
  },
  {
   "cell_type": "code",
   "execution_count": null,
   "metadata": {
    "jupyter": {
     "outputs_hidden": false,
     "source_hidden": false
    },
    "nteract": {
     "transient": {
      "deleting": false
     }
    }
   },
   "outputs": [],
   "source": [
    "render_grid([sampler.sample() for i in range(num_images*2)], equal_class_distribution=False);"
   ]
  },
  {
   "cell_type": "markdown",
   "metadata": {
    "nteract": {
     "transient": {
      "deleting": false
     }
    }
   },
   "source": [
    "There are two ways you can create your **custom samplers**.\n",
    "For simple changes you can set some custom distributions in a given sampler.\n",
    "Lets reuse the Colorbiases samples but now we change the sampler\n",
    "to randomly flip objects vertically 50% of the time.\n",
    "We are also sampeling the arm postion because a vertical flip is not really visible for\n",
    "stretchy otherwise."
   ]
  },
  {
   "cell_type": "code",
   "execution_count": null,
   "metadata": {
    "jupyter": {
     "outputs_hidden": false,
     "source_hidden": false
    },
    "nteract": {
     "transient": {
      "deleting": false
     }
    }
   },
   "outputs": [],
   "source": [
    "sampler.fliplr=two4two.utils.discrete({True: 0.5, False: 0.5})\n",
    "_ = [sampler.sample_fliplr(params) for params in stickies + strechies]\n",
    "_ = [sampler.sample_arm_position(params) for params in stickies + strechies]\n",
    "render_grid(stickies + strechies);"
   ]
  },
  {
   "cell_type": "markdown",
   "metadata": {
    "nteract": {
     "transient": {
      "deleting": false
     }
    }
   },
   "source": [
    "Now lets create our own bias. In the following example we take the default sampler and visualize how it is sampeling\n",
    "the background color."
   ]
  },
  {
   "cell_type": "code",
   "execution_count": null,
   "metadata": {
    "jupyter": {
     "outputs_hidden": false,
     "source_hidden": false
    },
    "nteract": {
     "transient": {
      "deleting": false
     }
    }
   },
   "outputs": [],
   "source": [
    "stickies = [two4two.SceneParameters.default_sticky() for i in range(num_images)]\n",
    "strechies = [two4two.SceneParameters.default_stretchy() for i in range(num_images)]\n",
    "sampler = two4two.Sampler()\n",
    "_ = [sampler.sample_bg_color(params) for params in stickies + strechies]\n",
    "strechies.sort(key=lambda x: x.bg_color)\n",
    "stickies.sort(key=lambda x: x.bg_color)\n",
    "render_grid(stickies + strechies);"
   ]
  },
  {
   "cell_type": "markdown",
   "metadata": {
    "nteract": {
     "transient": {
      "deleting": false
     }
    }
   },
   "source": [
    "The changes in the background color are barely noticeable. But they are there. Hwoever they are very similar for both classes.\n",
    "We will now replace the background disitrbution by a conditional disitrbution which is slightly diffrent for sticky and stretchy."
   ]
  },
  {
   "cell_type": "code",
   "execution_count": null,
   "metadata": {
    "jupyter": {
     "outputs_hidden": false,
     "source_hidden": false
    },
    "nteract": {
     "transient": {
      "deleting": false
     }
    }
   },
   "outputs": [],
   "source": [
    "stickies = [two4two.SceneParameters.default_sticky() for i in range(num_images)]\n",
    "strechies = [two4two.SceneParameters.default_stretchy() for i in range(num_images)]\n",
    "sampler = two4two.Sampler()\n",
    "sampler.bg_color = {\n",
    "    'sticky': two4two.utils.truncated_normal(0.8, 0.3, 0.3, 0.85),\n",
    "    'stretchy': two4two.utils.truncated_normal(0.2, 0.3, 0.15, 0.7)}\n",
    "_ = [sampler.sample_bg_color(params) for params in stickies + strechies]\n",
    "strechies.sort(key=lambda x: x.bg_color)\n",
    "stickies.sort(key=lambda x: x.bg_color)\n",
    "render_grid(stickies + strechies);"
   ]
  },
  {
   "cell_type": "code",
   "execution_count": null,
   "metadata": {
    "jupyter": {
     "outputs_hidden": false,
     "source_hidden": false
    },
    "nteract": {
     "transient": {
      "deleting": false
     }
    }
   },
   "outputs": [],
   "source": [
    "stickies = [sampler.sample(obj_name='sticky') for i in range(num_images)]\n",
    "strechies = [sampler.sample(obj_name='stretchy') for i in range(num_images)]\n",
    "render_grid(stickies + strechies);"
   ]
  }
 ],
 "metadata": {
  "kernelspec": {
   "display_name": "Python 3",
   "language": "python",
   "name": "python3"
  },
  "language_info": {
   "codemirror_mode": {
    "name": "ipython",
    "version": 3
   },
   "file_extension": ".py",
   "mimetype": "text/x-python",
   "name": "python",
   "nbconvert_exporter": "python",
   "pygments_lexer": "ipython3",
   "version": "3.7.4"
  }
 },
 "nbformat": 4,
 "nbformat_minor": 1
}
