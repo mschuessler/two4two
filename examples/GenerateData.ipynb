{
 "cells": [
  {
   "cell_type": "code",
   "execution_count": null,
   "metadata": {
    "jupyter": {
     "outputs_hidden": false,
     "source_hidden": false
    },
    "nteract": {
     "transient": {
      "deleting": false
     }
    }
   },
   "outputs": [],
   "source": [
    "import two4two\n",
    "import os\n",
    "import matplotlib.pyplot as plt\n",
    "import numpy as np\n",
    "import scipy.stats\n",
    "from two4two.plotvis import render_single_param"
   ]
  },
  {
   "cell_type": "markdown",
   "metadata": {
    "nteract": {
     "transient": {
      "deleting": false
     }
    }
   },
   "source": [
    "# SceneParameters: Description of a single image\n",
    "The basic data type of the two4two module are SceneParameters. They contain the attributes that describe a single 3D scene which can be rendered into an image. We can create SceneParameters manually with the consturctor which will be initialize with default values (see example below). In a later section we "
   ]
  },
  {
   "cell_type": "code",
   "execution_count": null,
   "metadata": {
    "jupyter": {
     "outputs_hidden": false,
     "source_hidden": false
    },
    "nteract": {
     "transient": {
      "deleting": false
     }
    }
   },
   "outputs": [],
   "source": [
    "base_param = two4two.SceneParameters()\n",
    "base_param\n"
   ]
  },
  {
   "cell_type": "markdown",
   "metadata": {
    "nteract": {
     "transient": {
      "deleting": false
     }
    }
   },
   "source": [
    "# Rendering SceneParameters\n",
    "At the end of this notebook, you will have an understanding for all the attributes that are contained in SceneParameters. First, we will show you how to turn a SceneParameter into an image.To do this we simply have to pass it to the blender Module. The ``blender.render`` function is designed to recieve a *list of SceneParameters* and return an enumeraor to recieve \n",
    "1. the rendered image\n",
    "2. a segmentation mask\n",
    "3. the paramers used to create the image (so that they can be saved as well and used for a later analysis).\n",
    "The will be returned once they are finsiehd rendering.\n",
    "\n",
    "Note that we have implemented doc string tha provide even more detail. The example below shows the doc string for the ``blender.render`` function."
   ]
  },
  {
   "cell_type": "code",
   "execution_count": null,
   "metadata": {},
   "outputs": [],
   "source": [
    "two4two.blender.render?"
   ]
  },
  {
   "cell_type": "markdown",
   "metadata": {},
   "source": [
    "Here we will use the convienience function ``bender.render_single`` which returns a single image and segmentaion mask for a single SceneParameter. Please do not use it to render a Sequence of parameters ``blender.render`` does this is in a more efficent way. The convieniece function is only designed to inspect single images quickly. The download_blender flag will ensure blender is installed for you."
   ]
  },
  {
   "cell_type": "code",
   "execution_count": null,
   "metadata": {},
   "outputs": [],
   "source": [
    "(img, mask) = two4two.blender.render_single(base_param, download_blender=True)"
   ]
  },
  {
   "cell_type": "markdown",
   "metadata": {},
   "source": [
    "Ploting the image yields a sticky objects."
   ]
  },
  {
   "cell_type": "code",
   "execution_count": null,
   "metadata": {},
   "outputs": [],
   "source": [
    "plt.imshow(img)\n",
    "plt.axis('off')"
   ]
  },
  {
   "cell_type": "markdown",
   "metadata": {
    "nteract": {
     "transient": {
      "deleting": false
     }
    }
   },
   "source": [
    "The renderer also returns an image mask which we visualize here:"
   ]
  },
  {
   "cell_type": "code",
   "execution_count": null,
   "metadata": {
    "jupyter": {
     "outputs_hidden": false,
     "source_hidden": false
    },
    "nteract": {
     "transient": {
      "deleting": false
     }
    }
   },
   "outputs": [],
   "source": [
    "plt.imshow(mask)"
   ]
  },
  {
   "cell_type": "markdown",
   "metadata": {
    "nteract": {
     "transient": {
      "deleting": false
     }
    }
   },
   "source": [
    "In this example we will render quite a few single images, which is why we will use another convienience fucntion from the two4two.plotvis."
   ]
  },
  {
   "cell_type": "code",
   "execution_count": null,
   "metadata": {},
   "outputs": [],
   "source": [
    "from two4two.plotvis import render_single_param\n",
    "render_single_param(base_param);"
   ]
  },
  {
   "cell_type": "markdown",
   "metadata": {
    "nteract": {
     "transient": {
      "deleting": false
     }
    }
   },
   "source": [
    "The default SceneParameters alwasy depicts a sticky.\n",
    "One can obtain the exact same set of default values with a convienience function"
   ]
  },
  {
   "cell_type": "code",
   "execution_count": null,
   "metadata": {
    "jupyter": {
     "outputs_hidden": false,
     "source_hidden": false
    },
    "nteract": {
     "transient": {
      "deleting": false
     }
    }
   },
   "outputs": [],
   "source": [
    "base_sticky = two4two.SceneParameters.default_sticky()\n",
    "render_single_param(base_sticky);"
   ]
  },
  {
   "cell_type": "markdown",
   "metadata": {
    "nteract": {
     "transient": {
      "deleting": false
     }
    }
   },
   "source": [
    "Similarly a conveience function exisit to retrieve a stretchy"
   ]
  },
  {
   "cell_type": "code",
   "execution_count": null,
   "metadata": {
    "jupyter": {
     "outputs_hidden": false,
     "source_hidden": false
    },
    "nteract": {
     "transient": {
      "deleting": false
     }
    }
   },
   "outputs": [],
   "source": [
    "base_stretchy = two4two.SceneParameters.default_stretchy()\n",
    "render_single_param(base_stretchy);"
   ]
  },
  {
   "cell_type": "markdown",
   "metadata": {
    "nteract": {
     "transient": {
      "deleting": false
     }
    }
   },
   "source": [
    "# Changing Attributes\n",
    "The attributes of the SceneParameters can be changed manually.\n",
    "For example the attribute **fliplr** indicates if the object is flipped vertically (left/right)"
   ]
  },
  {
   "cell_type": "code",
   "execution_count": null,
   "metadata": {
    "jupyter": {
     "outputs_hidden": false,
     "source_hidden": false
    },
    "nteract": {
     "transient": {
      "deleting": false
     }
    }
   },
   "outputs": [],
   "source": [
    "fliped_sticky = two4two.SceneParameters()\n",
    "fliped_sticky.fliplr"
   ]
  },
  {
   "cell_type": "markdown",
   "metadata": {
    "nteract": {
     "transient": {
      "deleting": false
     }
    }
   },
   "source": [
    "Since the paramters indicate the object is not flipped, we can change that by\n",
    "setting the attribute manually accordingly."
   ]
  },
  {
   "cell_type": "code",
   "execution_count": null,
   "metadata": {
    "jupyter": {
     "outputs_hidden": false,
     "source_hidden": false
    },
    "nteract": {
     "transient": {
      "deleting": false
     }
    }
   },
   "outputs": [],
   "source": [
    "fliped_sticky.fliplr = True\n",
    "render_single_param(fliped_sticky);"
   ]
  },
  {
   "cell_type": "markdown",
   "metadata": {
    "nteract": {
     "transient": {
      "deleting": false
     }
    }
   },
   "source": [
    "Next lets look at the attribute of **roation**\n",
    "Here we are setting it to the minimum recommended value."
   ]
  },
  {
   "cell_type": "code",
   "execution_count": null,
   "metadata": {
    "jupyter": {
     "outputs_hidden": false,
     "source_hidden": false
    },
    "nteract": {
     "transient": {
      "deleting": false
     }
    }
   },
   "outputs": [],
   "source": [
    "rotating_pitch_sticky = two4two.SceneParameters()\n",
    "rotating_pitch_sticky.obj_rotation_pitch = two4two.SceneParameters.VALID_VALUES['obj_rotation_pitch'][0]\n",
    "render_single_param(rotating_pitch_sticky);"
   ]
  },
  {
   "cell_type": "markdown",
   "metadata": {
    "nteract": {
     "transient": {
      "deleting": false
     }
    }
   },
   "source": [
    "After that we are setting it to the recommended maximum value"
   ]
  },
  {
   "cell_type": "code",
   "execution_count": null,
   "metadata": {
    "jupyter": {
     "outputs_hidden": false,
     "source_hidden": false
    },
    "nteract": {
     "transient": {
      "deleting": false
     }
    }
   },
   "outputs": [],
   "source": [
    "rotating_pitch_sticky.obj_rotation_pitch = two4two.SceneParameters.VALID_VALUES['obj_rotation_pitch'][1]\n",
    "render_single_param(rotating_pitch_sticky);"
   ]
  },
  {
   "cell_type": "markdown",
   "metadata": {
    "nteract": {
     "transient": {
      "deleting": false
     }
    }
   },
   "source": [
    "It is possible to set attributes outside of the recomemnded values"
   ]
  },
  {
   "cell_type": "code",
   "execution_count": null,
   "metadata": {
    "jupyter": {
     "outputs_hidden": false,
     "source_hidden": false
    },
    "nteract": {
     "transient": {
      "deleting": false
     }
    }
   },
   "outputs": [],
   "source": [
    "rotating_pitch_sticky.obj_rotation_pitch = 1.2\n",
    "render_single_param(rotating_pitch_sticky);"
   ]
  },
  {
   "cell_type": "markdown",
   "metadata": {
    "nteract": {
     "transient": {
      "deleting": false
     }
    }
   },
   "source": [
    "To check wheter values are with recommended ranges you can use *check_value*"
   ]
  },
  {
   "cell_type": "code",
   "execution_count": null,
   "metadata": {
    "jupyter": {
     "outputs_hidden": false,
     "source_hidden": false
    },
    "nteract": {
     "transient": {
      "deleting": false
     }
    }
   },
   "outputs": [],
   "source": [
    "rotating_pitch_sticky.check_values()"
   ]
  },
  {
   "cell_type": "markdown",
   "metadata": {
    "nteract": {
     "transient": {
      "deleting": false
     }
    }
   },
   "source": [
    "The following examples will illustrate the other attibutes and their corresponding\n",
    "maximum and minimum recommended values.\n",
    "The enxt examples shows the **inclination**"
   ]
  },
  {
   "cell_type": "code",
   "execution_count": null,
   "metadata": {
    "jupyter": {
     "outputs_hidden": false,
     "source_hidden": false
    },
    "nteract": {
     "transient": {
      "deleting": false
     }
    }
   },
   "outputs": [],
   "source": [
    "rotating_yaw_sticky = two4two.SceneParameters()\n",
    "rotating_yaw_sticky.obj_rotation_yaw = 0.5*two4two.SceneParameters.VALID_VALUES['obj_rotation_yaw'][0]\n",
    "render_single_param(rotating_yaw_sticky);"
   ]
  },
  {
   "cell_type": "markdown",
   "metadata": {},
   "source": [
    "Please note here we are taking half of the max and min value since the yaw rotation has the range (-PI,+PI) which is a full rotation, resulting in the exact same orignal image."
   ]
  },
  {
   "cell_type": "code",
   "execution_count": null,
   "metadata": {
    "jupyter": {
     "outputs_hidden": false,
     "source_hidden": false
    },
    "nteract": {
     "transient": {
      "deleting": false
     }
    }
   },
   "outputs": [],
   "source": [
    "rotating_yaw_sticky.obj_rotation_yaw = 0.5* two4two.SceneParameters.VALID_VALUES['obj_rotation_yaw'][1]\n",
    "render_single_param(rotating_yaw_sticky);"
   ]
  },
  {
   "cell_type": "code",
   "execution_count": null,
   "metadata": {
    "jupyter": {
     "outputs_hidden": false,
     "source_hidden": false
    },
    "nteract": {
     "transient": {
      "deleting": false
     }
    }
   },
   "outputs": [],
   "source": [
    "rotating_roll_sticky = two4two.SceneParameters()\n",
    "rotating_roll_sticky.obj_rotation_roll = two4two.SceneParameters.VALID_VALUES['obj_rotation_roll'][0]\n",
    "render_single_param(rotating_roll_sticky);"
   ]
  },
  {
   "cell_type": "code",
   "execution_count": null,
   "metadata": {
    "jupyter": {
     "outputs_hidden": false,
     "source_hidden": false
    },
    "nteract": {
     "transient": {
      "deleting": false
     }
    }
   },
   "outputs": [],
   "source": [
    "rotating_roll_sticky.obj_rotation_roll = two4two.SceneParameters.VALID_VALUES['obj_rotation_roll'][1]\n",
    "render_single_param(rotating_roll_sticky);"
   ]
  },
  {
   "cell_type": "markdown",
   "metadata": {
    "nteract": {
     "transient": {
      "deleting": false
     }
    }
   },
   "source": [
    "We can also alter the **postion** in the scene"
   ]
  },
  {
   "cell_type": "code",
   "execution_count": null,
   "metadata": {
    "jupyter": {
     "outputs_hidden": false,
     "source_hidden": false
    },
    "nteract": {
     "transient": {
      "deleting": false
     }
    }
   },
   "outputs": [],
   "source": [
    "right_down_sticky = two4two.SceneParameters()\n",
    "right_down_sticky.position_x = two4two.SceneParameters.VALID_VALUES['position_x'][0]\n",
    "right_down_sticky.position_y = two4two.SceneParameters.VALID_VALUES['position_y'][0]\n",
    "render_single_param(right_down_sticky);"
   ]
  },
  {
   "cell_type": "markdown",
   "metadata": {
    "nteract": {
     "transient": {
      "deleting": false
     }
    }
   },
   "source": [
    "The 8 building blocks of sticky and stretchy can be altered to be more or less **spherical**"
   ]
  },
  {
   "cell_type": "code",
   "execution_count": null,
   "metadata": {
    "jupyter": {
     "outputs_hidden": false,
     "source_hidden": false
    },
    "nteract": {
     "transient": {
      "deleting": false
     }
    }
   },
   "outputs": [],
   "source": [
    "spherical_sticky = two4two.SceneParameters()\n",
    "spherical_sticky.spherical = two4two.SceneParameters.VALID_VALUES['spherical'][1]\n",
    "render_single_param(spherical_sticky);"
   ]
  },
  {
   "cell_type": "code",
   "execution_count": null,
   "metadata": {
    "jupyter": {
     "outputs_hidden": false,
     "source_hidden": false
    },
    "nteract": {
     "transient": {
      "deleting": false
     }
    }
   },
   "outputs": [],
   "source": [
    "cubic_stretchy = two4two.SceneParameters.default_stretchy()\n",
    "cubic_stretchy.spherical = two4two.SceneParameters.VALID_VALUES['spherical'][0]\n",
    "render_single_param(cubic_stretchy);"
   ]
  },
  {
   "cell_type": "markdown",
   "metadata": {
    "nteract": {
     "transient": {
      "deleting": false
     }
    }
   },
   "source": [
    "The objects can take on \"postures\" with the attribute *bending*"
   ]
  },
  {
   "cell_type": "code",
   "execution_count": null,
   "metadata": {
    "jupyter": {
     "outputs_hidden": false,
     "source_hidden": false
    },
    "nteract": {
     "transient": {
      "deleting": false
     }
    }
   },
   "outputs": [],
   "source": [
    "bending_sticky = two4two.SceneParameters()\n",
    "bending_sticky.bending = -np.pi/12 #two4two.SceneParameters.VALID_VALUES['bending'][0] #-np.pi/16\n",
    "bending_sticky.arm_position = 0\n",
    "bending_sticky.check_values()\n",
    "render_single_param(bending_sticky);\n"
   ]
  },
  {
   "cell_type": "code",
   "execution_count": null,
   "metadata": {
    "jupyter": {
     "outputs_hidden": false,
     "source_hidden": false
    },
    "nteract": {
     "transient": {
      "deleting": false
     }
    }
   },
   "outputs": [],
   "source": [
    "bending_sticky = two4two.SceneParameters()\n",
    "bending_sticky.bending = np.pi/8 #two4two.SceneParameters.VALID_VALUES['bending'][0] #-np.pi/16\n",
    "bending_sticky.arm_position = 0\n",
    "bending_sticky.spherical = two4two.SceneParameters.VALID_VALUES['spherical'][0]\n",
    "bending_sticky.check_values()\n",
    "render_single_param(bending_sticky);\n"
   ]
  },
  {
   "cell_type": "code",
   "execution_count": null,
   "metadata": {},
   "outputs": [],
   "source": [
    "bending_sticky.bending"
   ]
  },
  {
   "cell_type": "markdown",
   "metadata": {
    "nteract": {
     "transient": {
      "deleting": false
     }
    }
   },
   "source": [
    "You have now seen all attributes - except the colors - that can be changed about sticky and stretchy.\n",
    "# Sampling large numbers of SceneParameters\n",
    "In practice we usally do not create SceneParameters manually. Instead we use a sampler to sample these attributes from given distribtions. The command below creates the default sample provided with this module."
   ]
  },
  {
   "cell_type": "code",
   "execution_count": null,
   "metadata": {
    "jupyter": {
     "outputs_hidden": false,
     "source_hidden": false
    },
    "nteract": {
     "transient": {
      "deleting": false
     }
    }
   },
   "outputs": [],
   "source": [
    "sampler = two4two.Sampler()"
   ]
  },
  {
   "cell_type": "markdown",
   "metadata": {
    "nteract": {
     "transient": {
      "deleting": false
     }
    }
   },
   "source": [
    "Here we use the default provided sample to generate an examples.\n",
    "Try rerunning the cell and see how it changes"
   ]
  },
  {
   "cell_type": "code",
   "execution_count": null,
   "metadata": {
    "jupyter": {
     "outputs_hidden": false,
     "source_hidden": false
    },
    "nteract": {
     "transient": {
      "deleting": false
     }
    }
   },
   "outputs": [],
   "source": [
    "sampled_params = sampler.sample()\n",
    "render_single_param(sampled_params);"
   ]
  },
  {
   "cell_type": "markdown",
   "metadata": {},
   "source": [
    "We can create several examples using list comprehension, randomly creating several strechies and stickies. Also there is a useful helper function which renders these examples in an image grid."
   ]
  },
  {
   "cell_type": "code",
   "execution_count": null,
   "metadata": {},
   "outputs": [],
   "source": [
    "from two4two.plotvis import render_grid"
   ]
  },
  {
   "cell_type": "code",
   "execution_count": null,
   "metadata": {
    "jupyter": {
     "outputs_hidden": false,
     "source_hidden": false
    },
    "nteract": {
     "transient": {
      "deleting": false
     }
    }
   },
   "outputs": [],
   "source": [
    "params = [sampler.sample() for i in range(18)]\n",
    "render_grid(params);"
   ]
  },
  {
   "cell_type": "markdown",
   "metadata": {
    "nteract": {
     "transient": {
      "deleting": false
     }
    }
   },
   "source": [
    "A sampler works by setting attributes using a distributon.\n",
    "We can also use a sampler to sample individual attributes of SceneParameters.\n",
    "This is usefull to visualize how each attribute is sampled.\n",
    "Here we are defining 18 default strechies and 18 default stickies to then\n",
    "only sampler their **color**. We then sort them by their color and visulize them in a grid."
   ]
  },
  {
   "cell_type": "code",
   "execution_count": null,
   "metadata": {},
   "outputs": [],
   "source": [
    "num_images = 18"
   ]
  },
  {
   "cell_type": "code",
   "execution_count": null,
   "metadata": {
    "jupyter": {
     "outputs_hidden": false,
     "source_hidden": false
    },
    "nteract": {
     "transient": {
      "deleting": false
     }
    }
   },
   "outputs": [],
   "source": [
    "stickies = [two4two.SceneParameters.default_sticky() for i in range(num_images)]\n",
    "strechies = [two4two.SceneParameters.default_stretchy() for i in range(num_images)]\n",
    "\n",
    "_ = [sampler.sample_obj_color(params) for params in stickies + strechies]\n",
    "strechies.sort(key=lambda x: x.obj_color)\n",
    "stickies.sort(key=lambda x: x.obj_color)\n",
    "render_grid(stickies + strechies);"
   ]
  },
  {
   "cell_type": "markdown",
   "metadata": {
    "nteract": {
     "transient": {
      "deleting": false
     }
    }
   },
   "source": [
    "In the following example we repeat this experiement with a diffrent sampler, which has a known **color bias**.\n",
    "In the grid you can see that stickies (left) are more frequently red and stretchies (rigth) are more frequently blue."
   ]
  },
  {
   "cell_type": "code",
   "execution_count": null,
   "metadata": {
    "jupyter": {
     "outputs_hidden": false,
     "source_hidden": false
    },
    "nteract": {
     "transient": {
      "deleting": false
     }
    }
   },
   "outputs": [],
   "source": [
    "sampler = two4two.ColorBiasedSampler()\n",
    "sampler.bg_color_map = 'coolwarm' #seismic #pink #copper\n",
    "sampler.obj_color_map = 'coolwarm'\n",
    "_ = [sampler.sample_obj_color(params) for params in stickies + strechies]\n",
    "strechies.sort(key=lambda x: x.obj_color)\n",
    "stickies.sort(key=lambda x: x.obj_color)\n",
    "render_grid(stickies + strechies);"
   ]
  },
  {
   "cell_type": "markdown",
   "metadata": {
    "nteract": {
     "transient": {
      "deleting": false
     }
    }
   },
   "source": [
    "It is much easier to see the color bias when we leave all other attributes constant and order the objects by their color.\n",
    "Lets see the images our ColorBiasedSampler would create when it is also sampling all other attributes."
   ]
  },
  {
   "cell_type": "code",
   "execution_count": null,
   "metadata": {
    "jupyter": {
     "outputs_hidden": false,
     "source_hidden": false
    },
    "nteract": {
     "transient": {
      "deleting": false
     }
    }
   },
   "outputs": [],
   "source": [
    "render_grid([sampler.sample() for i in range(num_images*2)], equal_class_distribution=False);"
   ]
  },
  {
   "cell_type": "markdown",
   "metadata": {
    "nteract": {
     "transient": {
      "deleting": false
     }
    }
   },
   "source": [
    "There are two ways you can create your **custom samplers**.\n",
    "For simple changes you can set some custom distributions in a given sampler.\n",
    "Lets reuse the Colorbiases samples but now we change the sampler\n",
    "to randomly flip objects vertically 50% of the time.\n",
    "We are also sampeling the arm postion because a vertical flip is not really visible for\n",
    "stretchy otherwise."
   ]
  },
  {
   "cell_type": "code",
   "execution_count": null,
   "metadata": {
    "jupyter": {
     "outputs_hidden": false,
     "source_hidden": false
    },
    "nteract": {
     "transient": {
      "deleting": false
     }
    }
   },
   "outputs": [],
   "source": [
    "sampler.fliplr=two4two.utils.discrete({True: 0.5, False: 0.5})\n",
    "_ = [sampler.sample_fliplr(params) for params in stickies + strechies]\n",
    "_ = [sampler.sample_arm_position(params) for params in stickies + strechies]\n",
    "render_grid(stickies + strechies);"
   ]
  },
  {
   "cell_type": "markdown",
   "metadata": {
    "nteract": {
     "transient": {
      "deleting": false
     }
    }
   },
   "source": [
    "Now lets create our own bias. In the following example we take the default sampler and visualize how it is sampeling\n",
    "the background color."
   ]
  },
  {
   "cell_type": "code",
   "execution_count": null,
   "metadata": {
    "jupyter": {
     "outputs_hidden": false,
     "source_hidden": false
    },
    "nteract": {
     "transient": {
      "deleting": false
     }
    }
   },
   "outputs": [],
   "source": [
    "stickies = [two4two.SceneParameters.default_sticky() for i in range(num_images)]\n",
    "strechies = [two4two.SceneParameters.default_stretchy() for i in range(num_images)]\n",
    "sampler = two4two.Sampler()\n",
    "_ = [sampler.sample_bg_color(params) for params in stickies + strechies]\n",
    "strechies.sort(key=lambda x: x.bg_color)\n",
    "stickies.sort(key=lambda x: x.bg_color)\n",
    "render_grid(stickies + strechies);"
   ]
  },
  {
   "cell_type": "markdown",
   "metadata": {
    "nteract": {
     "transient": {
      "deleting": false
     }
    }
   },
   "source": [
    "The changes in the background color are barely noticeable. But they are there. Hwoever they are very similar for both classes.\n",
    "We will now replace the background disitrbution by a conditional disitrbution which is slightly diffrent for sticky and stretchy."
   ]
  },
  {
   "cell_type": "code",
   "execution_count": null,
   "metadata": {
    "jupyter": {
     "outputs_hidden": false,
     "source_hidden": false
    },
    "nteract": {
     "transient": {
      "deleting": false
     }
    }
   },
   "outputs": [],
   "source": [
    "stickies = [two4two.SceneParameters.default_sticky() for i in range(num_images)]\n",
    "strechies = [two4two.SceneParameters.default_stretchy() for i in range(num_images)]\n",
    "sampler = two4two.Sampler()\n",
    "sampler.bg_color_map = 'coolwarm'\n",
    "sampler.bg_color = {\n",
    "    'sticky': two4two.utils.truncated_normal(0.85, 0.3, 0.3, 0.85),\n",
    "    'stretchy': two4two.utils.truncated_normal(0.15, 0.3, 0.15, 0.7)}\n",
    "_ = [sampler.sample_bg_color(params) for params in stickies + strechies]\n",
    "strechies.sort(key=lambda x: x.bg_color)\n",
    "stickies.sort(key=lambda x: x.bg_color)\n",
    "render_grid(stickies + strechies);"
   ]
  },
  {
   "cell_type": "code",
   "execution_count": null,
   "metadata": {
    "jupyter": {
     "outputs_hidden": false,
     "source_hidden": false
    },
    "nteract": {
     "transient": {
      "deleting": false
     }
    }
   },
   "outputs": [],
   "source": [
    "stickies = [two4two.SceneParameters.default_sticky() for i in range(num_images)]\n",
    "strechies = [two4two.SceneParameters.default_stretchy() for i in range(num_images)]\n",
    "sampler = two4two.Sampler()\n",
    "sampler.spherical = {\n",
    "    'sticky': two4two.utils.truncated_normal(0.80, 0.5, 0.1, 1.0),\n",
    "    'stretchy': two4two.utils.truncated_normal(0.20, 0.5, 0.0, 0.9)}\n",
    "_ = [sampler.sample_spherical(params) for params in stickies + strechies]\n",
    "strechies.sort(key=lambda x: x.spherical)\n",
    "stickies.sort(key=lambda x: x.spherical)\n",
    "render_grid(stickies + strechies);"
   ]
  },
  {
   "cell_type": "code",
   "execution_count": null,
   "metadata": {
    "jupyter": {
     "outputs_hidden": false,
     "source_hidden": false
    },
    "nteract": {
     "transient": {
      "deleting": false
     }
    }
   },
   "outputs": [],
   "source": [
    "stickies = [sampler.sample(obj_name='sticky') for i in range(num_images)]\n",
    "strechies = [sampler.sample(obj_name='stretchy') for i in range(num_images)]\n",
    "render_grid(stickies + strechies);"
   ]
  },
  {
   "cell_type": "code",
   "execution_count": null,
   "metadata": {},
   "outputs": [],
   "source": [
    "##########"
   ]
  },
  {
   "cell_type": "code",
   "execution_count": null,
   "metadata": {},
   "outputs": [],
   "source": [
    "stickies = [two4two.SceneParameters.default_sticky() for i in range(num_images)]\n",
    "strechies = [two4two.SceneParameters.default_stretchy() for i in range(num_images)]\n",
    "sampler = two4two.Sampler()\n",
    "_ = [sampler.sample_rotation(params) for params in stickies + strechies]\n",
    "#_ = [sampler.sample_bending(params) for params in stickies + strechies]\n",
    "render_grid(stickies + strechies);"
   ]
  },
  {
   "cell_type": "code",
   "execution_count": null,
   "metadata": {},
   "outputs": [],
   "source": [
    "stickies = [two4two.SceneParameters.default_sticky() for i in range(num_images)]\n",
    "strechies = [two4two.SceneParameters.default_stretchy() for i in range(num_images)]\n",
    "sampler = two4two.HighVariationSampler()\n",
    "_ = [sampler.sample_rotation(params) for params in stickies + strechies]\n",
    "_ = [sampler.sample_bending(params) for params in stickies + strechies]\n",
    "render_grid(stickies + strechies);"
   ]
  },
  {
   "cell_type": "code",
   "execution_count": null,
   "metadata": {},
   "outputs": [],
   "source": [
    "stickies = [two4two.SceneParameters.default_sticky() for i in range(num_images)]\n",
    "strechies = [two4two.SceneParameters.default_stretchy() for i in range(num_images)]\n",
    "sampler = two4two.HighVariationSampler()\n",
    "_ = [sampler.sample_rotation(params) for params in stickies + strechies]\n",
    "#_ = [sampler.sample_bending(params) for params in stickies + strechies]\n",
    "render_grid(stickies + strechies);"
   ]
  },
  {
   "cell_type": "code",
   "execution_count": null,
   "metadata": {},
   "outputs": [],
   "source": [
    "stickies = [two4two.SceneParameters.default_sticky() for i in range(num_images)]\n",
    "strechies = [two4two.SceneParameters.default_stretchy() for i in range(num_images)]\n",
    "sampler = two4two.Sampler()\n",
    "sampler.bending = two4two.utils.truncated_normal(0,np.pi / 18, - np.pi / 6, np.pi / 6)\n",
    "#_ = [sampler.sample_rotation(params) for params in stickies + strechies]\n",
    "_ = [sampler.sample_bending(params) for params in stickies + strechies]\n",
    "render_grid(stickies + strechies);"
   ]
  },
  {
   "cell_type": "code",
   "execution_count": null,
   "metadata": {},
   "outputs": [],
   "source": [
    "stickies = [two4two.SceneParameters.default_sticky() for i in range(num_images)]\n",
    "strechies = [two4two.SceneParameters.default_stretchy() for i in range(num_images)]\n",
    "sampler = two4two.Sampler()\n",
    "sampler.bending = two4two.utils.truncated_normal(0,np.pi / 18, - np.pi / 6, np.pi / 6)\n",
    "#_ = [sampler.sample_rotation(params) for params in stickies + strechies]\n",
    "_ = [sampler.sample_bending(params) for params in stickies + strechies]\n",
    "render_grid(stickies + strechies);"
   ]
  },
  {
   "cell_type": "code",
   "execution_count": null,
   "metadata": {},
   "outputs": [],
   "source": [
    "stickies = [two4two.SceneParameters.default_sticky() for i in range(num_images)]\n",
    "strechies = [two4two.SceneParameters.default_stretchy() for i in range(num_images)]\n",
    "sampler = two4two.Sampler()\n",
    "sampler.bending = two4two.utils.truncated_normal(0,np.pi / 18, - np.pi / 6, np.pi / 6)\n",
    "#_ = [sampler.sample_rotation(params) for params in stickies + strechies]\n",
    "_ = [sampler.sample_bending(params) for params in stickies + strechies]\n",
    "render_grid(stickies + strechies);"
   ]
  },
  {
   "cell_type": "code",
   "execution_count": null,
   "metadata": {},
   "outputs": [],
   "source": [
    "stickies = [two4two.SceneParameters.default_sticky() for i in range(num_images)]\n",
    "strechies = [two4two.SceneParameters.default_stretchy() for i in range(num_images)]\n",
    "sampler = two4two.Sampler()\n",
    "sampler.obj_rotation_roll=scipy.stats.uniform(- np.pi / 3, 2 * np.pi / 3)\n",
    "_ = [sampler.sample_rotation(params) for params in stickies + strechies]\n",
    "#_ = [sampler.sample_bending(params) for params in stickies + strechies]\n",
    "render_grid(stickies + strechies);"
   ]
  },
  {
   "cell_type": "code",
   "execution_count": null,
   "metadata": {},
   "outputs": [],
   "source": [
    "stickies = [two4two.SceneParameters.default_sticky() for i in range(num_images)]\n",
    "strechies = [two4two.SceneParameters.default_stretchy() for i in range(num_images)]\n",
    "sampler = two4two.Sampler()\n",
    "sampler.obj_rotation_roll=scipy.stats.uniform(- np.pi / 3, 2 * np.pi / 3)\n",
    "sampler.bending = two4two.utils.truncated_normal(0,np.pi / 18, - np.pi / 6, np.pi / 6)\n",
    "sampler.position_x = scipy.stats.uniform(-0.8, 0.8)\n",
    "sampler.position_y = scipy.stats.uniform(-0.8, 0.8)\n",
    "_ = [sampler.sample_rotation(params) for params in stickies + strechies]\n",
    "_ = [sampler.sample_bending(params) for params in stickies + strechies]\n",
    "_ = [sampler.sample_position(params) for params in stickies + strechies]\n",
    "render_grid(stickies + strechies);"
   ]
  },
  {
   "cell_type": "code",
   "execution_count": null,
   "metadata": {},
   "outputs": [],
   "source": [
    "sampler.bg_color_map = 'tab20c'\n",
    "sampler.obj_color_map = 'Accent'\n",
    "render_grid([sampler.sample() for i in range(50)]);"
   ]
  },
  {
   "cell_type": "code",
   "execution_count": null,
   "metadata": {},
   "outputs": [],
   "source": [
    "sampler.bg_color_map = 'tab20c'\n",
    "sampler.obj_color_map = 'coolwarm'\n",
    "render_grid([sampler.sample() for i in range(50)]);"
   ]
  },
  {
   "cell_type": "code",
   "execution_count": null,
   "metadata": {},
   "outputs": [],
   "source": [
    "sampler.bg_color_map = 'binary'\n",
    "sampler.obj_color_map = 'coolwarm'\n",
    "render_grid([sampler.sample() for i in range(50)]);"
   ]
  },
  {
   "cell_type": "code",
   "execution_count": null,
   "metadata": {},
   "outputs": [],
   "source": [
    "sampler.bg_color_map = 'coolwarm'\n",
    "sampler.obj_color_map = 'tab20c' \n",
    "render_grid([sampler.sample() for i in range(50)]);"
   ]
  },
  {
   "cell_type": "code",
   "execution_count": null,
   "metadata": {},
   "outputs": [],
   "source": [
    "#sampler = HighVariationSampler()\n",
    "sampler.bg_color_map = 'coolwarm'\n",
    "sampler.obj_color_map = 'seismic' \n",
    "render_grid([sampler.sample() for i in range(50)]);"
   ]
  },
  {
   "cell_type": "code",
   "execution_count": null,
   "metadata": {},
   "outputs": [],
   "source": [
    "sampler = two4two.Sampler()\n",
    "sampler.obj_rotation_roll=scipy.stats.uniform(- np.pi / 3, 2 * np.pi / 3)\n",
    "sampler.bending = scipy.stats.uniform(- np.pi / 8, np.pi / 8)\n",
    "sampler.position_x = scipy.stats.uniform(-0.8, 0.8)\n",
    "sampler.position_y = scipy.stats.uniform(-0.8, 0.8)\n",
    "sampler.bg_color_map = 'coolwarm'\n",
    "sampler.obj_color_map = 'seismic' \n",
    "render_grid([sampler.sample() for i in range(50)]);"
   ]
  },
  {
   "cell_type": "code",
   "execution_count": null,
   "metadata": {},
   "outputs": [],
   "source": [
    "obj_rotation_roll: Continouos = scipy.stats.uniform(- np.pi / 3, 2 * np.pi / 3)\n",
    "    obj_rotation_yaw: Continouos = scipy.stats.uniform(- np.pi, np.pi)\n",
    "    obj_rotation_pitch: Continouos = scipy.stats.uniform(- np.pi / 3, 2 * np.pi / 3)"
   ]
  },
  {
   "cell_type": "markdown",
   "metadata": {},
   "source": [
    "# Creating a large dataset with multiple biases\n",
    "As the last example in this notebook we will create a dataset with 3 simple biases by building our own custom sampler."
   ]
  },
  {
   "cell_type": "code",
   "execution_count": null,
   "metadata": {},
   "outputs": [],
   "source": [
    "custom_sampler = two4two.Sampler()\n",
    "num_images = 18"
   ]
  },
  {
   "cell_type": "markdown",
   "metadata": {},
   "source": [
    "# CUstom Arm position?"
   ]
  },
  {
   "cell_type": "code",
   "execution_count": null,
   "metadata": {
    "jupyter": {
     "outputs_hidden": false,
     "source_hidden": false
    },
    "nteract": {
     "transient": {
      "deleting": false
     }
    }
   },
   "outputs": [],
   "source": [
    "base_sticky = two4two.SceneParameters.default_sticky()\n",
    "base_sticky.arm_position = 0.50\n",
    "render_single_param(base_sticky);"
   ]
  },
  {
   "cell_type": "code",
   "execution_count": null,
   "metadata": {
    "jupyter": {
     "outputs_hidden": false,
     "source_hidden": false
    },
    "nteract": {
     "transient": {
      "deleting": false
     }
    }
   },
   "outputs": [],
   "source": [
    "base_sticky = two4two.SceneParameters.default_sticky()\n",
    "base_sticky.arm_position = 0.60\n",
    "render_single_param(base_sticky);"
   ]
  },
  {
   "cell_type": "code",
   "execution_count": null,
   "metadata": {
    "jupyter": {
     "outputs_hidden": false,
     "source_hidden": false
    },
    "nteract": {
     "transient": {
      "deleting": false
     }
    }
   },
   "outputs": [],
   "source": [
    "base_stretchy = two4two.SceneParameters.default_stretchy()\n",
    "base_stretchy.arm_position = 0.45\n",
    "render_single_param(base_stretchy);"
   ]
  },
  {
   "cell_type": "code",
   "execution_count": null,
   "metadata": {},
   "outputs": [],
   "source": [
    "custom_sampler.arm_position ={'sticky': two4two.utils.truncated_normal(mean=0, std=0.5, lower=0, upper=0.60),'stretchy': two4two.utils.truncated_normal(mean=1, std=0.5, lower=0.40, upper=1.0)}"
   ]
  },
  {
   "cell_type": "markdown",
   "metadata": {},
   "source": [
    "## Stronger rotations = higher variance\n",
    "It is important to note that if a dataset is of low variance and contains very obvious signals that allow to distinguish between classes the classifier is unlikely to use these biases for the classification. Consequently as a first step we will increase the complexity of the dataset. In this example we achieve this by increasing the variation of postion and posture related attributes. First we allow object to perform full yaw rotations."
   ]
  },
  {
   "cell_type": "code",
   "execution_count": null,
   "metadata": {},
   "outputs": [],
   "source": [
    "custom_sampler.obj_rotation_yaw = scipy.stats.uniform(- np.pi, np.pi)"
   ]
  },
  {
   "cell_type": "markdown",
   "metadata": {},
   "source": [
    "Visualization of the resulting resultation (important to note: pitch and roll are inherited from base class)"
   ]
  },
  {
   "cell_type": "code",
   "execution_count": null,
   "metadata": {},
   "outputs": [],
   "source": [
    "stickies = [two4two.SceneParameters.default_sticky() for i in range(num_images)]\n",
    "strechies = [two4two.SceneParameters.default_stretchy() for i in range(num_images)]\n",
    "_ = [custom_sampler.sample_rotation(params) for params in stickies + strechies]"
   ]
  },
  {
   "cell_type": "code",
   "execution_count": null,
   "metadata": {},
   "outputs": [],
   "source": [
    "render_grid(stickies + strechies);"
   ]
  },
  {
   "cell_type": "markdown",
   "metadata": {},
   "source": [
    "## Larger varations in positioning within frame\n",
    "We will also allow a stronger varaition of the positioning of the object in the frame."
   ]
  },
  {
   "cell_type": "code",
   "execution_count": null,
   "metadata": {},
   "outputs": [],
   "source": [
    "custom_sampler.position_x = scipy.stats.uniform(-0.8, 0.8)\n",
    "custom_sampler.position_y = scipy.stats.uniform(-0.8, 0.8)"
   ]
  },
  {
   "cell_type": "markdown",
   "metadata": {},
   "source": [
    "Lets visualize the result again (combining rotation and positioning)"
   ]
  },
  {
   "cell_type": "code",
   "execution_count": null,
   "metadata": {},
   "outputs": [],
   "source": [
    "_ = [custom_sampler.sample_position(params) for params in stickies + strechies]"
   ]
  },
  {
   "cell_type": "code",
   "execution_count": null,
   "metadata": {},
   "outputs": [],
   "source": [
    "render_grid(stickies + strechies);"
   ]
  },
  {
   "cell_type": "markdown",
   "metadata": {},
   "source": [
    "## Stronger Bending of objects\n",
    "The bending attribute is also well suited to increase variance and make the dataset more challenging."
   ]
  },
  {
   "cell_type": "code",
   "execution_count": null,
   "metadata": {},
   "outputs": [],
   "source": [
    "custom_sampler.bending = two4two.utils.truncated_normal(0, np.pi / 20, - np.pi / 10, np.pi / 10)"
   ]
  },
  {
   "cell_type": "markdown",
   "metadata": {},
   "source": [
    "Lets visualize bending, first independent of any other parameter."
   ]
  },
  {
   "cell_type": "code",
   "execution_count": null,
   "metadata": {},
   "outputs": [],
   "source": [
    "stickies = [two4two.SceneParameters.default_sticky() for i in range(num_images)]\n",
    "strechies = [two4two.SceneParameters.default_stretchy() for i in range(num_images)]\n",
    "_ = [custom_sampler.sample_bending(params) for params in stickies + strechies]"
   ]
  },
  {
   "cell_type": "code",
   "execution_count": null,
   "metadata": {},
   "outputs": [],
   "source": [
    "render_grid(stickies + strechies);"
   ]
  },
  {
   "cell_type": "markdown",
   "metadata": {},
   "source": [
    "## Joint effect of postioning, rotation and bending\n",
    "Now lets vizualize the joint effect of the three attributes we customized. "
   ]
  },
  {
   "cell_type": "code",
   "execution_count": null,
   "metadata": {},
   "outputs": [],
   "source": [
    "_ = [custom_sampler.sample_position(params) for params in stickies + strechies]\n",
    "_ = [custom_sampler.sample_rotation(params) for params in stickies + strechies]\n",
    "render_grid(stickies + strechies);"
   ]
  },
  {
   "cell_type": "markdown",
   "metadata": {},
   "source": [
    "## Custom Colormaps\n",
    "Next, we will change the colormap of the object and the background. Here we have choosen ``coolwarm``for the foreground and the background. THies yields an esthetically pleasing combination, while introducing more visuall varaition. Another adavantage of this colormap is that it is perceptiualy uniform, which is a desireable property when running experiements with human subjects. To choose your own colormap. Have a look at: https://matplotlib.org/3.1.0/tutorials/colors/colormaps.html"
   ]
  },
  {
   "cell_type": "code",
   "execution_count": null,
   "metadata": {},
   "outputs": [],
   "source": [
    "custom_sampler.bg_color_map = 'coolwarm'\n",
    "custom_sampler.obj_color_map = 'coolwarm'\n",
    "custom_sampler.bg_color = scipy.stats.uniform(0.05, 0.90)"
   ]
  },
  {
   "cell_type": "markdown",
   "metadata": {},
   "source": [
    "Lets visualize the resulting variation of colors."
   ]
  },
  {
   "cell_type": "code",
   "execution_count": null,
   "metadata": {},
   "outputs": [],
   "source": [
    "stickies = [two4two.SceneParameters.default_sticky() for i in range(num_images)]\n",
    "strechies = [two4two.SceneParameters.default_stretchy() for i in range(num_images)]\n",
    "_ = [custom_sampler.sample_color(params) for params in stickies + strechies]\n",
    "render_grid(stickies + strechies);"
   ]
  },
  {
   "cell_type": "markdown",
   "metadata": {},
   "source": [
    "Now lets visualize the types of images our unbiased sampler creates."
   ]
  },
  {
   "cell_type": "code",
   "execution_count": null,
   "metadata": {},
   "outputs": [],
   "source": [
    "render_grid([custom_sampler.sample() for i in range(50)]);"
   ]
  },
  {
   "cell_type": "markdown",
   "metadata": {},
   "source": [
    "Now lets create images of the unbiased dataset. Please change the folders accoding to your preferences. We will use this dataset later to train our own classifier. If you do not want to create this dataset yourself, you can download it here: TBA"
   ]
  },
  {
   "cell_type": "code",
   "execution_count": null,
   "metadata": {},
   "outputs": [],
   "source": [
    "output_dir = \"data/medVar/test\"\n",
    "os.makedirs(output_dir, exist_ok=True)\n",
    "test_params = [custom_sampler.sample() for i in range(1000)]\n",
    "for _ in two4two.render(test_params, output_dir=output_dir):\n",
    "    pass"
   ]
  },
  {
   "cell_type": "code",
   "execution_count": null,
   "metadata": {},
   "outputs": [],
   "source": [
    "output_dir = \"data/medVar/validation\"\n",
    "os.makedirs(output_dir, exist_ok=True)\n",
    "validation_params = [custom_sampler.sample() for i in range(10000)]\n",
    "for _ in two4two.render(validation_params, output_dir=output_dir):\n",
    "    pass"
   ]
  },
  {
   "cell_type": "code",
   "execution_count": null,
   "metadata": {},
   "outputs": [],
   "source": [
    "output_dir = \"data/medVar/train\"\n",
    "os.makedirs(output_dir, exist_ok=True)\n",
    "train_params = [custom_sampler.sample() for i in range(40000)]\n",
    "for _ in two4two.render(train_params, output_dir=output_dir):\n",
    "    pass"
   ]
  },
  {
   "cell_type": "markdown",
   "metadata": {},
   "source": [
    "## Biased Background Color\n",
    "First we will introduce a somewhat simple"
   ]
  },
  {
   "cell_type": "code",
   "execution_count": null,
   "metadata": {},
   "outputs": [],
   "source": [
    "custom_sampler.bg_color = {\n",
    "    'sticky': scipy.stats.uniform(0.05, 0.75), # 0.05 <-> 80 (+75) <-> 95 (+15)\n",
    "    'stretchy': scipy.stats.uniform(0.20, 0.75)} # 0.05 <-> 0.20(+15) <-> 0.95 (+75)  "
   ]
  },
  {
   "cell_type": "code",
   "execution_count": null,
   "metadata": {},
   "outputs": [],
   "source": [
    "train_params_bg_color_bias = [param.clone() for param in train_params]"
   ]
  },
  {
   "cell_type": "code",
   "execution_count": null,
   "metadata": {},
   "outputs": [],
   "source": [
    "_ = [custom_sampler.sample_bg_color(params) for params in train_params_bg_color_bias]"
   ]
  },
  {
   "cell_type": "code",
   "execution_count": null,
   "metadata": {},
   "outputs": [],
   "source": [
    "output_dir = \"data/medVarBgBias/train\"\n",
    "os.makedirs(output_dir, exist_ok=True)\n",
    "for _ in two4two.render(train_params_bg_color_bias, output_dir=output_dir):\n",
    "    pass"
   ]
  },
  {
   "cell_type": "code",
   "execution_count": null,
   "metadata": {},
   "outputs": [],
   "source": [
    "validation_params_bg_color_bias = [param.clone() for param in validation_params]"
   ]
  },
  {
   "cell_type": "code",
   "execution_count": null,
   "metadata": {},
   "outputs": [],
   "source": [
    "_ = [custom_sampler.sample_bg_color(params) for params in validation_params_bg_color_bias]"
   ]
  },
  {
   "cell_type": "code",
   "execution_count": null,
   "metadata": {},
   "outputs": [],
   "source": [
    "output_dir = \"data/medVarBgBias/validation\"\n",
    "os.makedirs(output_dir, exist_ok=True)\n",
    "for _ in two4two.render(validation_params_bg_color_bias, output_dir=output_dir):\n",
    "    pass"
   ]
  },
  {
   "cell_type": "code",
   "execution_count": null,
   "metadata": {},
   "outputs": [],
   "source": [
    "test_params_bg_color_bias = [param.clone() for param in test_params]"
   ]
  },
  {
   "cell_type": "code",
   "execution_count": null,
   "metadata": {},
   "outputs": [],
   "source": [
    "_ = [custom_sampler.sample_bg_color(params) for params in test_params_bg_color_bias]"
   ]
  },
  {
   "cell_type": "code",
   "execution_count": null,
   "metadata": {},
   "outputs": [],
   "source": [
    "output_dir = \"data/medVarBgBias/test\"\n",
    "os.makedirs(output_dir, exist_ok=True)\n",
    "for _ in two4two.render(test_params_bg_color_bias, output_dir=output_dir):\n",
    "    pass"
   ]
  },
  {
   "cell_type": "markdown",
   "metadata": {},
   "source": [
    "## Biases sphericity"
   ]
  },
  {
   "cell_type": "code",
   "execution_count": null,
   "metadata": {},
   "outputs": [],
   "source": [
    "custom_sampler.spherical = {\n",
    "    'sticky': two4two.utils.truncated_normal(0.80, 0.5, 0.1, 1.0),\n",
    "    'stretchy': two4two.utils.truncated_normal(0.20, 0.5, 0.0, 0.9)}"
   ]
  },
  {
   "cell_type": "code",
   "execution_count": null,
   "metadata": {},
   "outputs": [],
   "source": [
    "train_params_spher_bias = [param.clone() for param in train_params]"
   ]
  },
  {
   "cell_type": "code",
   "execution_count": null,
   "metadata": {},
   "outputs": [],
   "source": [
    "_ = [custom_sampler.sample_spherical(params) for params in train_params_spher_bias]"
   ]
  },
  {
   "cell_type": "code",
   "execution_count": null,
   "metadata": {},
   "outputs": [],
   "source": [
    "output_dir = \"data/medVarSpherBias/train\"\n",
    "os.makedirs(output_dir, exist_ok=True)\n",
    "for _ in two4two.render(train_params_spher_bias, output_dir=output_dir):\n",
    "    pass"
   ]
  },
  {
   "cell_type": "code",
   "execution_count": null,
   "metadata": {},
   "outputs": [],
   "source": [
    "test_params_spher_bias = [param.clone() for param in test_params]"
   ]
  },
  {
   "cell_type": "code",
   "execution_count": null,
   "metadata": {},
   "outputs": [],
   "source": [
    "_ = [custom_sampler.sample_spherical(params) for params in test_params_spher_bias]"
   ]
  },
  {
   "cell_type": "code",
   "execution_count": null,
   "metadata": {},
   "outputs": [],
   "source": [
    "output_dir = \"data/medVarSpherBias/test\"\n",
    "os.makedirs(output_dir, exist_ok=True)\n",
    "for _ in two4two.render(test_params_spher_bias, output_dir=output_dir):\n",
    "    pass"
   ]
  },
  {
   "cell_type": "code",
   "execution_count": null,
   "metadata": {},
   "outputs": [],
   "source": [
    "validation_params_spher_bias = [param.clone() for param in validation_params]"
   ]
  },
  {
   "cell_type": "code",
   "execution_count": null,
   "metadata": {},
   "outputs": [],
   "source": [
    "_ = [custom_sampler.sample_spherical(params) for params in validation_params_spher_bias]"
   ]
  },
  {
   "cell_type": "code",
   "execution_count": null,
   "metadata": {},
   "outputs": [],
   "source": [
    "output_dir = \"data/medVarSpherBias/validation\"\n",
    "os.makedirs(output_dir, exist_ok=True)\n",
    "for _ in two4two.render(validation_params_spher_bias, output_dir=output_dir):\n",
    "    pass"
   ]
  },
  {
   "cell_type": "code",
   "execution_count": null,
   "metadata": {
    "scrolled": false
   },
   "outputs": [],
   "source": [
    "stickies = [two4two.SceneParameters.default_sticky() for i in range(72)]\n",
    "strechies = [two4two.SceneParameters.default_stretchy() for i in range(72)]\n",
    "_ = [custom_sampler.sample_color(params) for params in stickies + strechies]\n",
    "render_grid(stickies + strechies);"
   ]
  },
  {
   "cell_type": "markdown",
   "metadata": {},
   "source": [
    "# Biased Foregorund"
   ]
  },
  {
   "cell_type": "code",
   "execution_count": null,
   "metadata": {},
   "outputs": [],
   "source": [
    "custom_sampler.obj_color = {\n",
    "            'sticky': two4two.utils.truncated_normal(1, 0.5, 0, 1),\n",
    "            'stretchy': two4two.utils.truncated_normal(0, 0.5, 0, 1),\n",
    "        }"
   ]
  },
  {
   "cell_type": "code",
   "execution_count": null,
   "metadata": {},
   "outputs": [],
   "source": [
    "r  = two4two.utils.truncated_normal(1, 0.5, 0, 1)\n",
    "l  = two4two.utils.truncated_normal(0, 0.5, 0, 1)\n",
    "x = np.linspace(0, 1, num=100)\n",
    "plt.plot(x, r.pdf(x))\n",
    "plt.plot(x, l.pdf(x))\n",
    "plt.ylim(0, 1.8)"
   ]
  },
  {
   "cell_type": "code",
   "execution_count": null,
   "metadata": {},
   "outputs": [],
   "source": [
    "train_params_obj_color_bias = [param.clone() for param in train_params]\n",
    "train_params_obj_color_and_spher_bias = [param.clone() for param in train_params]"
   ]
  },
  {
   "cell_type": "code",
   "execution_count": null,
   "metadata": {},
   "outputs": [],
   "source": [
    "_ = [custom_sampler.sample_obj_color(params) for params in train_params_obj_color_bias + train_params_obj_color_and_spher_bias]"
   ]
  },
  {
   "cell_type": "code",
   "execution_count": null,
   "metadata": {},
   "outputs": [],
   "source": [
    "_ = [custom_sampler.sample_spherical(params) for params in train_params_obj_color_and_spher_bias]"
   ]
  },
  {
   "cell_type": "code",
   "execution_count": null,
   "metadata": {},
   "outputs": [],
   "source": [
    "output_dir = \"data/medVarSpherObjColorBias/train\"\n",
    "os.makedirs(output_dir, exist_ok=True)\n",
    "for _ in two4two.render(train_params_obj_color_and_spher_bias, output_dir=output_dir):\n",
    "    pass"
   ]
  },
  {
   "cell_type": "code",
   "execution_count": null,
   "metadata": {},
   "outputs": [],
   "source": [
    "output_dir = \"data/medVarObjColorBias/train\"\n",
    "os.makedirs(output_dir, exist_ok=True)\n",
    "for _ in two4two.render(train_params_obj_color_bias, output_dir=output_dir):\n",
    "    pass"
   ]
  },
  {
   "cell_type": "code",
   "execution_count": null,
   "metadata": {},
   "outputs": [],
   "source": [
    "test_params_obj_color_bias = [param.clone() for param in test_params]\n",
    "test_params_obj_color_and_spher_bias = [param.clone() for param in test_params]\n",
    "validation_params_obj_color_bias = [param.clone() for param in validation_params]\n",
    "validation_params_obj_color_and_spher_bias = [param.clone() for param in validation_params]"
   ]
  },
  {
   "cell_type": "code",
   "execution_count": null,
   "metadata": {},
   "outputs": [],
   "source": [
    "_ = [custom_sampler.sample_obj_color(params) for params in test_params_obj_color_bias + test_params_obj_color_and_spher_bias]\n",
    "_ = [custom_sampler.sample_spherical(params) for params in test_params_obj_color_and_spher_bias]\n",
    "_ = [custom_sampler.sample_obj_color(params) for params in validation_params_obj_color_bias + validation_params_obj_color_and_spher_bias]\n",
    "_ = [custom_sampler.sample_spherical(params) for params in validation_params_obj_color_and_spher_bias]"
   ]
  },
  {
   "cell_type": "code",
   "execution_count": null,
   "metadata": {},
   "outputs": [],
   "source": [
    "output_dir = \"data/medVarSpherObjColorBias/validation\"\n",
    "os.makedirs(output_dir, exist_ok=True)\n",
    "for _ in two4two.render(validation_params_obj_color_and_spher_bias, output_dir=output_dir):\n",
    "    pass"
   ]
  },
  {
   "cell_type": "code",
   "execution_count": null,
   "metadata": {},
   "outputs": [],
   "source": [
    "output_dir = \"data/medVarSpherObjColorBias/test\"\n",
    "os.makedirs(output_dir, exist_ok=True)\n",
    "for _ in two4two.render(test_params_obj_color_and_spher_bias, output_dir=output_dir):\n",
    "    pass"
   ]
  },
  {
   "cell_type": "code",
   "execution_count": null,
   "metadata": {},
   "outputs": [],
   "source": [
    "output_dir = \"data/medVarObjColorBias/validation\"\n",
    "os.makedirs(output_dir, exist_ok=True)\n",
    "for _ in two4two.render(validation_params_obj_color_bias, output_dir=output_dir):\n",
    "    pass"
   ]
  },
  {
   "cell_type": "code",
   "execution_count": null,
   "metadata": {},
   "outputs": [],
   "source": [
    "output_dir = \"data/medVarObjColorBias/test\"\n",
    "os.makedirs(output_dir, exist_ok=True)\n",
    "for _ in two4two.render(test_params_obj_color_bias, output_dir=output_dir):\n",
    "    pass"
   ]
  },
  {
   "cell_type": "code",
   "execution_count": null,
   "metadata": {},
   "outputs": [],
   "source": [
    "custom_sampler.bg_color = scipy.stats.uniform(0.05, 0.80)\n",
    "stickies = [two4two.SceneParameters.default_sticky() for i in range(num_images)]\n",
    "strechies = [two4two.SceneParameters.default_stretchy() for i in range(num_images)]\n",
    "_ = [custom_sampler.sample_color(params) for params in stickies + strechies]\n",
    "render_grid(stickies + strechies);"
   ]
  },
  {
   "cell_type": "markdown",
   "metadata": {},
   "source": [
    "# Remaining combinations"
   ]
  },
  {
   "cell_type": "code",
   "execution_count": null,
   "metadata": {},
   "outputs": [],
   "source": [
    "train_params_obj_bg_color_bias = [param.clone(create_new_id=False) for param in train_params_obj_color_bias]"
   ]
  },
  {
   "cell_type": "code",
   "execution_count": null,
   "metadata": {},
   "outputs": [],
   "source": [
    "for i in range(len(train_params_obj_bg_color_bias)):\n",
    "    train_params_obj_bg_color_bias[i].bg_color=train_params_bg_color_bias[i].bg_color\n"
   ]
  },
  {
   "cell_type": "code",
   "execution_count": null,
   "metadata": {},
   "outputs": [],
   "source": [
    "output_dir = \"data/medVarObjBgColorBias/train\"\n",
    "os.makedirs(output_dir, exist_ok=True)\n",
    "for _ in two4two.render(train_params_obj_bg_color_bias, output_dir=output_dir):\n",
    "    pass"
   ]
  },
  {
   "cell_type": "code",
   "execution_count": null,
   "metadata": {},
   "outputs": [],
   "source": [
    "test_params_obj_bg_color_bias = [param.clone(create_new_id=False) for param in test_params_obj_color_bias]"
   ]
  },
  {
   "cell_type": "code",
   "execution_count": null,
   "metadata": {},
   "outputs": [],
   "source": [
    "for i in range(len(test_params_obj_bg_color_bias)):\n",
    "    test_params_obj_bg_color_bias[i].bg_color=test_params_bg_color_bias[i].bg_color\n"
   ]
  },
  {
   "cell_type": "code",
   "execution_count": null,
   "metadata": {},
   "outputs": [],
   "source": [
    "output_dir = \"data/medVarObjBgColorBias/test\"\n",
    "os.makedirs(output_dir, exist_ok=True)\n",
    "for _ in two4two.render(test_params_obj_bg_color_bias, output_dir=output_dir):\n",
    "    pass"
   ]
  },
  {
   "cell_type": "code",
   "execution_count": null,
   "metadata": {},
   "outputs": [],
   "source": [
    "validation_params_obj_bg_color_bias = [param.clone(create_new_id=False) for param in validation_params_obj_color_bias]"
   ]
  },
  {
   "cell_type": "code",
   "execution_count": null,
   "metadata": {},
   "outputs": [],
   "source": [
    "for i in range(len(validation_params_obj_bg_color_bias)):\n",
    "    validation_params_obj_bg_color_bias[i].bg_color=validation_params_bg_color_bias[i].bg_color\n"
   ]
  },
  {
   "cell_type": "code",
   "execution_count": null,
   "metadata": {},
   "outputs": [],
   "source": [
    "output_dir = \"data/medVarObjBgColorBias/validation\"\n",
    "os.makedirs(output_dir, exist_ok=True)\n",
    "for _ in two4two.render(validation_params_obj_bg_color_bias, output_dir=output_dir):\n",
    "    pass"
   ]
  },
  {
   "cell_type": "markdown",
   "metadata": {},
   "source": [
    "# Last combination"
   ]
  },
  {
   "cell_type": "code",
   "execution_count": null,
   "metadata": {},
   "outputs": [],
   "source": [
    "train_params_spherical_bg_color_bias = [param.clone(create_new_id=False) for param in train_params_bg_color_bias]"
   ]
  },
  {
   "cell_type": "code",
   "execution_count": null,
   "metadata": {},
   "outputs": [],
   "source": [
    "for i in range(len(train_params_spherical_bg_color_bias)):\n",
    "    train_params_spherical_bg_color_bias[i].bg_color=train_params_spher_bias[i].spherical\n"
   ]
  },
  {
   "cell_type": "code",
   "execution_count": null,
   "metadata": {},
   "outputs": [],
   "source": [
    "output_dir = \"data/medVarSphericalBgColorBias/train\"\n",
    "os.makedirs(output_dir, exist_ok=True)\n",
    "for _ in two4two.render(train_params_spherical_bg_color_bias, output_dir=output_dir):\n",
    "    pass"
   ]
  },
  {
   "cell_type": "code",
   "execution_count": null,
   "metadata": {},
   "outputs": [],
   "source": [
    "test_params_spherical_bg_color_bias = [param.clone(create_new_id=False) for param in test_params_bg_color_bias]"
   ]
  },
  {
   "cell_type": "code",
   "execution_count": null,
   "metadata": {},
   "outputs": [],
   "source": [
    "for i in range(len(test_params_spherical_bg_color_bias)):\n",
    "    test_params_spherical_bg_color_bias[i].bg_color=test_params_spher_bias[i].spherical\n"
   ]
  },
  {
   "cell_type": "code",
   "execution_count": null,
   "metadata": {},
   "outputs": [],
   "source": [
    "output_dir = \"data/medVarSphericalBgColorBias/test\"\n",
    "os.makedirs(output_dir, exist_ok=True)\n",
    "for _ in two4two.render(test_params_spherical_bg_color_bias, output_dir=output_dir):\n",
    "    pass"
   ]
  },
  {
   "cell_type": "code",
   "execution_count": null,
   "metadata": {},
   "outputs": [],
   "source": [
    "validation_params_spherical_bg_color_bias = [param.clone(create_new_id=False) for param in validation_params_bg_color_bias]"
   ]
  },
  {
   "cell_type": "code",
   "execution_count": null,
   "metadata": {},
   "outputs": [],
   "source": [
    "for i in range(len(validation_params_spherical_bg_color_bias)):\n",
    "    validation_params_spherical_bg_color_bias[i].bg_color=validation_params_spher_bias[i].spherical\n"
   ]
  },
  {
   "cell_type": "code",
   "execution_count": null,
   "metadata": {},
   "outputs": [],
   "source": [
    "len(validation_params_spherical_bg_color_bias)"
   ]
  },
  {
   "cell_type": "code",
   "execution_count": null,
   "metadata": {},
   "outputs": [],
   "source": [
    "output_dir = \"data/medVarSphericalBgColorBias/validation\"\n",
    "os.makedirs(output_dir, exist_ok=True)\n",
    "for _ in two4two.render(validation_params_spherical_bg_color_bias, output_dir=output_dir):\n",
    "    pass"
   ]
  },
  {
   "cell_type": "markdown",
   "metadata": {},
   "source": [
    "# Triple combination"
   ]
  },
  {
   "cell_type": "code",
   "execution_count": null,
   "metadata": {},
   "outputs": [],
   "source": [
    "train_params_triple = [param.clone(create_new_id=False) for param in train_params_spherical_bg_color_bias]\n",
    "test_params_triple = [param.clone(create_new_id=False) for param in test_params_spherical_bg_color_bias]\n",
    "validation_params_triple = [param.clone(create_new_id=False) for param in validation_params_spherical_bg_color_bias]"
   ]
  },
  {
   "cell_type": "code",
   "execution_count": null,
   "metadata": {},
   "outputs": [],
   "source": [
    "for i in range(len(train_params_triple)):\n",
    "    train_params_triple[i].obj_color=train_params_obj_color_bias[i].obj_color\n",
    "for i in range(len(test_params_triple)):\n",
    "    test_params_triple[i].obj_color=test_params_obj_color_bias[i].obj_color\n",
    "for i in range(len(validation_params_triple)):\n",
    "    validation_params_triple[i].obj_color=validation_params_obj_color_bias[i].obj_color"
   ]
  },
  {
   "cell_type": "code",
   "execution_count": null,
   "metadata": {},
   "outputs": [],
   "source": [
    "output_dir = \"data/medVarTriple/train\"\n",
    "os.makedirs(output_dir, exist_ok=True)\n",
    "for _ in two4two.render(train_params_triple, output_dir=output_dir):\n",
    "    pass"
   ]
  },
  {
   "cell_type": "code",
   "execution_count": null,
   "metadata": {},
   "outputs": [],
   "source": [
    "output_dir = \"data/medVarTriple/test\"\n",
    "os.makedirs(output_dir, exist_ok=True)\n",
    "for _ in two4two.render(test_params_triple, output_dir=output_dir):\n",
    "    pass"
   ]
  },
  {
   "cell_type": "code",
   "execution_count": null,
   "metadata": {},
   "outputs": [],
   "source": [
    "output_dir = \"data/medVarTriple/validation\"\n",
    "os.makedirs(output_dir, exist_ok=True)\n",
    "for _ in two4two.render(validation_params_triple, output_dir=output_dir):\n",
    "    pass"
   ]
  },
  {
   "cell_type": "code",
   "execution_count": null,
   "metadata": {
    "scrolled": false
   },
   "outputs": [],
   "source": [
    "sampler = two4two.Sampler()\n",
    "#sampler.obj_rotation_roll = scipy.stats.uniform(- np.pi / 3, 2 * np.pi / 3)\n",
    "#sampler.obj_rotation_yaw = scipy.stats.uniform(- np.pi, np.pi)\n",
    "#    obj_rotation_pitch: Continouos = scipy.stats.uniform(- np.pi / 3, 2 * np.pi / 3)\n",
    "sampler.bending = two4two.utils.truncated_normal(0, np.pi / 20, - np.pi / 10, np.pi / 10)\n",
    "sampler.bg_color_map = 'coolwarm' #seismic #pink #copper\n",
    "sampler.obj_color_map = 'coolwarm'\n",
    "sampler.arm_position = {\n",
    "            'sticky': two4two.utils.truncated_normal(mean=0, std=0.5, lower=0, upper=0.52),\n",
    "            'stretchy': two4two.utils.truncated_normal(mean=1, std=0.5, lower=0.48, upper=1.0)\n",
    "        }\n",
    "sampler.obj_color = {\n",
    "            'sticky': two4two.utils.truncated_normal(1, 0.5, 0, 1),\n",
    "            'stretchy': two4two.utils.truncated_normal(0, 0.5, 0, 1),\n",
    "        }\n",
    "sampler.bg_color = {\n",
    "    'sticky': two4two.utils.truncated_normal(0.15, 0.3, 0.15, 0.7),\n",
    "    'stretchy': two4two.utils.truncated_normal(0.85, 0.3, 0.3, 0.85)}\n",
    "sampler.spherical = {\n",
    "    'sticky': two4two.utils.truncated_normal(0.80, 0.5, 0.1, 1.0),\n",
    "    'stretchy': two4two.utils.truncated_normal(0.20, 0.5, 0.0, 0.9)}\n",
    "sampler.position_x = scipy.stats.uniform(-0.8, 0.8)\n",
    "sampler.position_y = scipy.stats.uniform(-0.8, 0.8)\n",
    "render_grid([sampler.sample() for i in range(50)])"
   ]
  },
  {
   "cell_type": "code",
   "execution_count": null,
   "metadata": {},
   "outputs": [],
   "source": [
    "(two4two.utils.truncated_normal(0.0, 0.5, 0 ,0.52).rvs(10000)>0.49).astype(int).sum()"
   ]
  },
  {
   "cell_type": "code",
   "execution_count": null,
   "metadata": {},
   "outputs": [],
   "source": [
    "sampler = two4two.ColorBiasedSampler()\n",
    "#sampler.obj_rotation_roll = scipy.stats.uniform(- np.pi / 3, 2 * np.pi / 3)\n",
    "#sampler.obj_rotation_yaw = scipy.stats.uniform(- np.pi, np.pi)\n",
    "#    obj_rotation_pitch: Continouos = scipy.stats.uniform(- np.pi / 3, 2 * np.pi / 3)\n",
    "sampler.bending = two4two.utils.truncated_normal(0, np.pi / 18, - np.pi / 6, np.pi / 6)\n",
    "sampler.bg_color_map = 'coolwarm' #seismic #pink #copper #Greys\n",
    "sampler.obj_color_map = 'coolwarm'\n",
    "sampler.position_x = scipy.stats.uniform(-0.8, 0.8)\n",
    "sampler.position_y = scipy.stats.uniform(-0.8, 0.8)\n",
    "render_grid([sampler.sample() for i in range(50)])"
   ]
  },
  {
   "cell_type": "code",
   "execution_count": null,
   "metadata": {},
   "outputs": [],
   "source": [
    "sampler = two4two.Sampler()\n",
    "#sampler.obj_rotation_roll = scipy.stats.uniform(- np.pi / 3, 2 * np.pi / 3)\n",
    "sampler.obj_rotation_yaw = scipy.stats.uniform(- np.pi, np.pi)\n",
    "#    obj_rotation_pitch: Continouos = scipy.stats.uniform(- np.pi / 3, 2 * np.pi / 3)\n",
    "sampler.bending = two4two.utils.truncated_normal(0, np.pi / 18, - np.pi / 6, np.pi / 6)\n",
    "sampler.bg_color_map = 'coolwarm' #seismic #pink #copper\n",
    "sampler.obj_color_map = 'seismic'\n",
    "sampler.position_x = scipy.stats.uniform(-0.8, 0.8)\n",
    "sampler.position_y = scipy.stats.uniform(-0.8, 0.8)\n",
    "render_grid([sampler.sample() for i in range(50)])"
   ]
  },
  {
   "cell_type": "code",
   "execution_count": null,
   "metadata": {},
   "outputs": [],
   "source": [
    "sampler = two4two.Sampler()\n",
    "sampler.bg_color = 0\n",
    "sampler.bg_color_map = 'tab20c'\n",
    "render_single_param(sampler.sample())"
   ]
  },
  {
   "cell_type": "code",
   "execution_count": null,
   "metadata": {},
   "outputs": [],
   "source": [
    "sampler = two4two.Sampler()\n",
    "sampler.bg_color = 0.05\n",
    "sampler.bg_color_map = 'tab20c'\n",
    "render_single_param(sampler.sample())"
   ]
  },
  {
   "cell_type": "code",
   "execution_count": null,
   "metadata": {},
   "outputs": [],
   "source": [
    "sampler = two4two.Sampler()\n",
    "sampler.bg_color = 0.1\n",
    "sampler.bg_color_map = 'tab20c'\n",
    "render_single_param(sampler.sample())"
   ]
  },
  {
   "cell_type": "code",
   "execution_count": null,
   "metadata": {},
   "outputs": [],
   "source": [
    "sampler = two4two.Sampler()\n",
    "sampler.bg_color = 0.15\n",
    "sampler.bg_color_map = 'tab20c'\n",
    "render_single_param(sampler.sample())"
   ]
  },
  {
   "cell_type": "code",
   "execution_count": null,
   "metadata": {},
   "outputs": [],
   "source": [
    "obj_rotation_roll: Continouos = utils.truncated_normal(0, 0.03 * np.pi / 4,\n",
    "                                                           *utils.QUARTER_CIRCLE)\n",
    "    obj_rotation_pitch: Continouos = utils.truncated_normal(0, 0.3 * np.pi / 4,\n",
    "                                                            *utils.QUARTER_CIRCLE)\n",
    "    obj_rotation_yaw: Continouos = utils.truncated_normal(0, 0.3 * np.pi / 4, *utils.QUARTER_CIRCLE)"
   ]
  },
  {
   "cell_type": "markdown",
   "metadata": {},
   "source": []
  },
  {
   "cell_type": "code",
   "execution_count": null,
   "metadata": {},
   "outputs": [],
   "source": [
    "sampler = two4two.Sampler()"
   ]
  },
  {
   "cell_type": "code",
   "execution_count": null,
   "metadata": {},
   "outputs": [],
   "source": [
    "stickies = [two4two.SceneParameters.default_sticky() for i in range(10000)]\n",
    "strechies = [two4two.SceneParameters.default_stretchy() for i in range(10000)]\n"
   ]
  },
  {
   "cell_type": "code",
   "execution_count": null,
   "metadata": {},
   "outputs": [],
   "source": [
    "_ = [sampler.sample_arm_position(params) for params in stickies + strechies]"
   ]
  },
  {
   "cell_type": "code",
   "execution_count": null,
   "metadata": {},
   "outputs": [],
   "source": [
    "np.min([param.arm_position for param in strechies])"
   ]
  }
 ],
 "metadata": {
  "kernelspec": {
   "display_name": "Python 3",
   "language": "python",
   "name": "python3"
  },
  "language_info": {
   "codemirror_mode": {
    "name": "ipython",
    "version": 3
   },
   "file_extension": ".py",
   "mimetype": "text/x-python",
   "name": "python",
   "nbconvert_exporter": "python",
   "pygments_lexer": "ipython3",
   "version": "3.7.4"
  }
 },
 "nbformat": 4,
 "nbformat_minor": 1
}
